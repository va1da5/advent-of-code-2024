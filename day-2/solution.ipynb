{
 "cells": [
  {
   "cell_type": "code",
   "execution_count": 1,
   "id": "6a2b635e-9c3d-497b-b14b-015271efb1aa",
   "metadata": {},
   "outputs": [
    {
     "data": {
      "text/plain": [
       "257"
      ]
     },
     "execution_count": 1,
     "metadata": {},
     "output_type": "execute_result"
    }
   ],
   "source": [
    "from typing import List\n",
    "\n",
    "with open(\"input.txt\", \"r\") as f:\n",
    "    lines = f.readlines()\n",
    "\n",
    "reports = list(map(lambda x: list(map(lambda value: int(value), x.strip().split(\" \"))), lines))\n",
    "\n",
    "def get_change(report: List[int]):\n",
    "    out = []\n",
    "    for i in range(len(report)-1):\n",
    "        out.append(abs(report[i]-report[i+1]))\n",
    "    return out\n",
    "\n",
    "def check_order(report, reverse=False):\n",
    "    return \" \".join(str(x) for x in sorted(report, reverse=reverse)) == \" \".join(str(x) for x in report)\n",
    "\n",
    "def is_in_order(report):\n",
    "    if check_order(report) or check_order(report, reverse=True):\n",
    "        return True\n",
    "    return False\n",
    "\n",
    "def is_report_safe(report):\n",
    "    return all([change <= 3 and change != 0 for change in get_change(report)])\n",
    "\n",
    "\n",
    "count = 0\n",
    "for report in reports:\n",
    "    if is_in_order(report):\n",
    "        if is_report_safe(report):\n",
    "            count += 1\n",
    "            continue\n",
    "\n",
    "count"
   ]
  },
  {
   "cell_type": "markdown",
   "id": "992ac4b7-1e72-42f6-90b1-144a8638d5e5",
   "metadata": {},
   "source": [
    "Correct: `257`"
   ]
  },
  {
   "cell_type": "code",
   "execution_count": 2,
   "id": "6dcc7b77-24dc-47ff-9d20-ea26eb839654",
   "metadata": {},
   "outputs": [
    {
     "data": {
      "text/plain": [
       "328"
      ]
     },
     "execution_count": 2,
     "metadata": {},
     "output_type": "execute_result"
    }
   ],
   "source": [
    "def is_valid(changes):\n",
    "    return all([change > 0 and change <= 3 for change in changes])\n",
    "\n",
    "def is_report_safe_better(report):\n",
    "    changes = []\n",
    "    for i in range(len(report)-1):\n",
    "        changes.append(report[i] - report[i+1])\n",
    "    return is_valid(changes) or is_valid([value * -1 for value in changes])\n",
    "\n",
    "def is_any_report_variant_safe(report):\n",
    "    for i in range(len(report)):\n",
    "        variant = [*report]\n",
    "        variant.pop(i)\n",
    "        if is_report_safe_better(variant):\n",
    "            return True\n",
    "    return False\n",
    "\n",
    "\n",
    "count_dampened = 0\n",
    "for report in reports:\n",
    "    if is_any_report_variant_safe(report):\n",
    "        count_dampened += 1\n",
    "\n",
    "count_dampened\n",
    "\n",
    "# is_any_report_variants_safe([1,3,2,4,5])\n",
    "# is_any_report_variants_safe([8,6,4,4,1])\n",
    "# is_any_report_variants_safe([9,7, 6,2,1])"
   ]
  },
  {
   "cell_type": "markdown",
   "id": "14b0c811-504d-41d7-a4d3-764100af0653",
   "metadata": {},
   "source": [
    "Correct: `328`"
   ]
  }
 ],
 "metadata": {
  "kernelspec": {
   "display_name": "Python 3 (ipykernel)",
   "language": "python",
   "name": "python3"
  },
  "language_info": {
   "codemirror_mode": {
    "name": "ipython",
    "version": 3
   },
   "file_extension": ".py",
   "mimetype": "text/x-python",
   "name": "python",
   "nbconvert_exporter": "python",
   "pygments_lexer": "ipython3",
   "version": "3.9.6"
  }
 },
 "nbformat": 4,
 "nbformat_minor": 5
}
