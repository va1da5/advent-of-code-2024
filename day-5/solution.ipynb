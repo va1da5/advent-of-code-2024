{
 "cells": [
  {
   "cell_type": "code",
   "execution_count": 4,
   "id": "150144fd-a2c5-45e8-9ebf-e93ed37ad304",
   "metadata": {},
   "outputs": [
    {
     "data": {
      "text/plain": [
       "4662"
      ]
     },
     "execution_count": 4,
     "metadata": {},
     "output_type": "execute_result"
    }
   ],
   "source": [
    "import math\n",
    "\n",
    "with open(\"input.txt\") as f:\n",
    "    content = f.read()\n",
    "\n",
    "def get_values(content: str):\n",
    "    delimeter = \"|\"\n",
    "    if \",\" in content:\n",
    "        delimeter = \",\"\n",
    "    return tuple(map(lambda x: tuple(map(lambda y: int(y), x.split(delimeter))), content.strip().split(\"\\n\")))\n",
    "\n",
    "def get_correct_updates(updates, rules):\n",
    "    out = []\n",
    "    for index, update in enumerate(updates):\n",
    "        results = []\n",
    "        for x,y in rules:\n",
    "            if x in update and y in update:\n",
    "                if update.index(x) < update.index(y):\n",
    "                    results.append(True)\n",
    "                if update.index(x) > update.index(y):\n",
    "                    results.append(False)\n",
    "        if all(results):\n",
    "            out.append(update)\n",
    "    return out\n",
    "\n",
    "def get_middle_number(numbers):\n",
    "    return numbers[math.floor(len(numbers) / 2)]\n",
    "\n",
    "rules, updates = map(lambda part: get_values(part), content.split(\"\\n\\n\"))\n",
    "\n",
    "sum(map(get_middle_number, get_correct_updates(updates, rules)))"
   ]
  },
  {
   "cell_type": "markdown",
   "id": "217630ee-b213-4aaf-ae31-43b0c2a53976",
   "metadata": {},
   "source": [
    "Correct: `4662`"
   ]
  },
  {
   "cell_type": "code",
   "execution_count": 5,
   "id": "44798531-1cdd-4b93-ab65-fde2e82c678a",
   "metadata": {},
   "outputs": [
    {
     "data": {
      "text/plain": [
       "5900"
      ]
     },
     "execution_count": 5,
     "metadata": {},
     "output_type": "execute_result"
    }
   ],
   "source": [
    "def fix_update(update, rules):\n",
    "    executions = 0\n",
    "    out = [*update]\n",
    "    while True:\n",
    "        for x, y in rules:\n",
    "            if x in out and y in out:\n",
    "                x_index = out.index(x)\n",
    "                y_index = out.index(y)\n",
    "                if out.index(x) > out.index(y):\n",
    "                    out[x_index] = y\n",
    "                    out[y_index] = x\n",
    "                    break\n",
    "\n",
    "        executions += 1\n",
    "        if len(get_correct_updates([out], rules)) > 0:\n",
    "            return out\n",
    "\n",
    "        if executions > 100:\n",
    "            raise Exception(\"Too much..\")\n",
    "\n",
    "\n",
    "def get_corrected_updates(updates, rules):\n",
    "    out = []\n",
    "    for update in updates:\n",
    "        for x,y in rules:\n",
    "            if x in update and y in update:\n",
    "                if update.index(x) > update.index(y):\n",
    "                    out.append(fix_update(update, rules))\n",
    "                    break\n",
    "    return out\n",
    "\n",
    "sum(map(get_middle_number, get_corrected_updates(updates, rules)))        "
   ]
  },
  {
   "cell_type": "markdown",
   "id": "c1571dad-a37e-4627-af6c-0fd9815eb22f",
   "metadata": {},
   "source": [
    "Correct: `5900`"
   ]
  }
 ],
 "metadata": {
  "kernelspec": {
   "display_name": "Python 3 (ipykernel)",
   "language": "python",
   "name": "python3"
  },
  "language_info": {
   "codemirror_mode": {
    "name": "ipython",
    "version": 3
   },
   "file_extension": ".py",
   "mimetype": "text/x-python",
   "name": "python",
   "nbconvert_exporter": "python",
   "pygments_lexer": "ipython3",
   "version": "3.9.6"
  }
 },
 "nbformat": 4,
 "nbformat_minor": 5
}
