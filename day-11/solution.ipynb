{
 "cells": [
  {
   "cell_type": "code",
   "execution_count": 1,
   "id": "1008a334-bcb9-44df-8edd-809c583641b8",
   "metadata": {},
   "outputs": [
    {
     "data": {
      "text/plain": [
       "203228"
      ]
     },
     "execution_count": 1,
     "metadata": {},
     "output_type": "execute_result"
    }
   ],
   "source": [
    "import functools\n",
    "\n",
    "def show(numbers):\n",
    "    print(\" \".join([str(number) for number in numbers]))\n",
    "\n",
    "@functools.cache\n",
    "def apply(number):\n",
    "    if number == 0:\n",
    "        return [1]\n",
    "\n",
    "    if len(str(number)) % 2 == 0:\n",
    "        n = str(number)\n",
    "        return [int(n[0:round(len(n)/2)]), int(n[round(len(n)/2):])]\n",
    "\n",
    "    return [ number * 2024 ]\n",
    "\n",
    "\n",
    "def get_stones(value: str):\n",
    "    return [int(x) for x in value.split(\" \")]\n",
    "\n",
    "with open(\"input.txt\", \"r\") as f:\n",
    "    content = f.read()\n",
    "\n",
    "stones = get_stones(content)\n",
    "\n",
    "for i in range(25):\n",
    "    out = []\n",
    "    for number in stones:\n",
    "        out.extend(apply(number))\n",
    "    stones = [*out]\n",
    "\n",
    "len(stones)"
   ]
  },
  {
   "cell_type": "markdown",
   "id": "0b764e78-5053-4535-85a7-bebcbc52d67c",
   "metadata": {},
   "source": [
    "Correct: `203228`"
   ]
  },
  {
   "cell_type": "code",
   "execution_count": 2,
   "id": "130ce976-92e4-40c4-b2ba-0f317f3c1658",
   "metadata": {},
   "outputs": [
    {
     "ename": "KeyboardInterrupt",
     "evalue": "",
     "output_type": "error",
     "traceback": [
      "\u001b[0;31m---------------------------------------------------------------------------\u001b[0m",
      "\u001b[0;31mKeyboardInterrupt\u001b[0m                         Traceback (most recent call last)",
      "Cell \u001b[0;32mIn[2], line 4\u001b[0m\n\u001b[1;32m      1\u001b[0m stones \u001b[38;5;241m=\u001b[39m get_stones(content)\n\u001b[1;32m      3\u001b[0m \u001b[38;5;28;01mfor\u001b[39;00m i \u001b[38;5;129;01min\u001b[39;00m \u001b[38;5;28mrange\u001b[39m(\u001b[38;5;241m75\u001b[39m):\n\u001b[0;32m----> 4\u001b[0m     out \u001b[38;5;241m=\u001b[39m []\n\u001b[1;32m      5\u001b[0m     \u001b[38;5;28;01mfor\u001b[39;00m number \u001b[38;5;129;01min\u001b[39;00m stones:\n\u001b[1;32m      6\u001b[0m         out\u001b[38;5;241m.\u001b[39mextend(apply(number))\n",
      "\u001b[0;31mKeyboardInterrupt\u001b[0m: "
     ]
    }
   ],
   "source": [
    "stones = get_stones(content)\n",
    "\n",
    "for i in range(75):\n",
    "    out = []\n",
    "    for number in stones:\n",
    "        out.extend(apply(number))\n",
    "    stones = [*out]\n",
    "\n",
    "len(stones)\n",
    "# does not work yet"
   ]
  },
  {
   "cell_type": "code",
   "execution_count": null,
   "id": "3a79754d-4715-43c2-a9b1-267bfe247406",
   "metadata": {},
   "outputs": [],
   "source": []
  }
 ],
 "metadata": {
  "kernelspec": {
   "display_name": "Python 3 (ipykernel)",
   "language": "python",
   "name": "python3"
  },
  "language_info": {
   "codemirror_mode": {
    "name": "ipython",
    "version": 3
   },
   "file_extension": ".py",
   "mimetype": "text/x-python",
   "name": "python",
   "nbconvert_exporter": "python",
   "pygments_lexer": "ipython3",
   "version": "3.9.6"
  }
 },
 "nbformat": 4,
 "nbformat_minor": 5
}
