{
 "cells": [
  {
   "cell_type": "code",
   "execution_count": 2,
   "id": "1008a334-bcb9-44df-8edd-809c583641b8",
   "metadata": {},
   "outputs": [
    {
     "data": {
      "text/plain": [
       "203228"
      ]
     },
     "execution_count": 2,
     "metadata": {},
     "output_type": "execute_result"
    }
   ],
   "source": [
    "import functools\n",
    "from collections import defaultdict\n",
    "\n",
    "def show(numbers):\n",
    "    print(\" \".join([str(number) for number in numbers]))\n",
    "\n",
    "@functools.cache\n",
    "def apply(number):\n",
    "    if number == 0:\n",
    "        return [1]\n",
    "\n",
    "    if len(str(number)) % 2 == 0:\n",
    "        n = str(number)\n",
    "        return [int(n[0:round(len(n)/2)]), int(n[round(len(n)/2):])]\n",
    "\n",
    "    return [ number * 2024 ]\n",
    "\n",
    "\n",
    "def get_stones(value: str):\n",
    "    return [int(x) for x in value.split(\" \")]\n",
    "\n",
    "with open(\"input.txt\", \"r\") as f:\n",
    "    content = f.read()\n",
    "\n",
    "stones = get_stones(content)\n",
    "\n",
    "for i in range(25):\n",
    "    out = []\n",
    "    for number in stones:\n",
    "        out.extend(apply(number))\n",
    "    stones = [*out]\n",
    "\n",
    "len(stones)"
   ]
  },
  {
   "cell_type": "markdown",
   "id": "0b764e78-5053-4535-85a7-bebcbc52d67c",
   "metadata": {},
   "source": [
    "Correct: `203228`"
   ]
  },
  {
   "cell_type": "code",
   "execution_count": 6,
   "id": "130ce976-92e4-40c4-b2ba-0f317f3c1658",
   "metadata": {},
   "outputs": [
    {
     "data": {
      "text/plain": [
       "203228"
      ]
     },
     "execution_count": 6,
     "metadata": {},
     "output_type": "execute_result"
    }
   ],
   "source": [
    "def get_initial_state(stones: list[tuple]):\n",
    "    out = defaultdict(int)\n",
    "\n",
    "    for stone in stones:\n",
    "        out[stone] += 1\n",
    "    return out\n",
    "\n",
    "def apply_rules(stone, count, accumulator):\n",
    "    if stone == 0:\n",
    "        accumulator[1] += count\n",
    "        return accumulator\n",
    "\n",
    "    if len(str(stone)) % 2 == 0:\n",
    "        n = str(stone)\n",
    "        first = int(n[0:round(len(n)/2)])\n",
    "        second = int(n[round(len(n)/2):])\n",
    "        accumulator[first] += count\n",
    "        accumulator[second] += count\n",
    "        return accumulator\n",
    "\n",
    "    accumulator[stone * 2024] += count\n",
    "\n",
    "    return accumulator\n",
    "\n",
    "stones = get_stones(content)\n",
    "\n",
    "result = get_initial_state(stones)\n",
    "\n",
    "for i in range(25):\n",
    "    new = defaultdict(int)\n",
    "    for stone, count in result.items():\n",
    "        new = apply_rules(stone, count, new)\n",
    "        # if stone == 0:\n",
    "        #     new[1] += count\n",
    "        #     continue\n",
    "\n",
    "        # if len(str(stone)) % 2 == 0:\n",
    "        #     n = str(stone)\n",
    "        #     first = int(n[0:round(len(n)/2)])\n",
    "        #     second = int(n[round(len(n)/2):])\n",
    "        #     new[first] += count\n",
    "        #     new[second] += count\n",
    "        #     continue\n",
    "\n",
    "        # new[stone * 2024] += count\n",
    "    result = new\n",
    "\n",
    "sum(result.values())"
   ]
  },
  {
   "cell_type": "code",
   "execution_count": null,
   "id": "3a79754d-4715-43c2-a9b1-267bfe247406",
   "metadata": {},
   "outputs": [],
   "source": []
  }
 ],
 "metadata": {
  "kernelspec": {
   "display_name": "Python 3 (ipykernel)",
   "language": "python",
   "name": "python3"
  },
  "language_info": {
   "codemirror_mode": {
    "name": "ipython",
    "version": 3
   },
   "file_extension": ".py",
   "mimetype": "text/x-python",
   "name": "python",
   "nbconvert_exporter": "python",
   "pygments_lexer": "ipython3",
   "version": "3.9.6"
  }
 },
 "nbformat": 4,
 "nbformat_minor": 5
}
