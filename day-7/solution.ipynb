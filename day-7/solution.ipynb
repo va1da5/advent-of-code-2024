{
 "cells": [
  {
   "cell_type": "code",
   "execution_count": 1,
   "id": "09655e99-01c9-46bd-886d-758c61bce7e9",
   "metadata": {},
   "outputs": [
    {
     "data": {
      "text/plain": [
       "8401132154762"
      ]
     },
     "execution_count": 1,
     "metadata": {},
     "output_type": "execute_result"
    }
   ],
   "source": [
    "import itertools\n",
    "\n",
    "with open(\"input.txt\", \"r\") as f:\n",
    "    content = f.read()\n",
    "\n",
    "def parse(content: str):\n",
    "    def entry(line: str):\n",
    "        outcome, numbers = line.split(\":\")\n",
    "        return int(outcome), [int(number) for number in numbers.strip().split(\" \")]\n",
    "\n",
    "    return list(map(entry, content.strip().split(\"\\n\")))\n",
    "\n",
    "\n",
    "def number_sum(a, b):\n",
    "    return a + b\n",
    "\n",
    "def number_multiply(a, b):\n",
    "    return a * b\n",
    "\n",
    "\n",
    "def check(outcome, numbers):\n",
    "    for operations  in itertools.product([number_sum ,number_multiply], repeat=len(numbers) - 1):\n",
    "        out = numbers[0]\n",
    "        for index, operation in enumerate(operations):\n",
    "            out = operation(out, numbers[index+1])\n",
    "        if out == outcome:\n",
    "            return outcome\n",
    "    return 0\n",
    "\n",
    "values = []\n",
    "for outcome, numbers in parse(content):\n",
    "    result = check(outcome, numbers)\n",
    "    values.append(result)\n",
    "    # if result > 0:\n",
    "    #     print(f\"🟢 {outcome}\")\n",
    "    # else:\n",
    "    #     print(f\"❌ {outcome}\")\n",
    "\n",
    "sum(values)"
   ]
  },
  {
   "cell_type": "markdown",
   "id": "54ed56b9-e162-4cd4-8bba-c258427ca679",
   "metadata": {},
   "source": [
    "Correct: `8401132154762`"
   ]
  },
  {
   "cell_type": "code",
   "execution_count": 2,
   "id": "8c0bffb0-1d90-40f9-b7af-53d1842ece74",
   "metadata": {},
   "outputs": [
    {
     "data": {
      "text/plain": [
       "95297119227552"
      ]
     },
     "execution_count": 2,
     "metadata": {},
     "output_type": "execute_result"
    }
   ],
   "source": [
    "with open(\"input.txt\", \"r\") as f:\n",
    "    content = f.read()\n",
    "\n",
    "def number_concat(a, b):\n",
    "    return int(str(a) + str(b))\n",
    "\n",
    "def check(outcome, numbers):\n",
    "    for operations  in itertools.product([number_sum, number_multiply, number_concat], repeat=len(numbers) - 1):\n",
    "        out = numbers[0]\n",
    "        for index, operation in enumerate(operations):\n",
    "            out = operation(out, numbers[index+1])\n",
    "        if out == outcome:\n",
    "            return outcome\n",
    "    return 0\n",
    "\n",
    "sum(map(lambda args: check(args[0], args[1]), parse(content)))\n",
    "\n",
    "# values = []\n",
    "# for outcome, numbers in parse(content):\n",
    "#     result = check(outcome, numbers)\n",
    "#     values.append(result)\n",
    "#     # if result > 0:\n",
    "#     #     print(f\"🟢 {outcome} {numbers}\")\n",
    "#     # else:\n",
    "#     #     print(f\"❌ {outcome}\")\n",
    "# sum(values)"
   ]
  },
  {
   "cell_type": "markdown",
   "id": "d8b4fc38-f6ef-45ad-afc8-b4456a62fed1",
   "metadata": {},
   "source": [
    "Correct: `95297119227552`"
   ]
  }
 ],
 "metadata": {
  "kernelspec": {
   "display_name": "Python 3 (ipykernel)",
   "language": "python",
   "name": "python3"
  },
  "language_info": {
   "codemirror_mode": {
    "name": "ipython",
    "version": 3
   },
   "file_extension": ".py",
   "mimetype": "text/x-python",
   "name": "python",
   "nbconvert_exporter": "python",
   "pygments_lexer": "ipython3",
   "version": "3.9.6"
  }
 },
 "nbformat": 4,
 "nbformat_minor": 5
}
