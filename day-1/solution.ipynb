{
 "cells": [
  {
   "cell_type": "code",
   "execution_count": 1,
   "id": "39227c27-8f10-4f20-baca-500aed360c0b",
   "metadata": {},
   "outputs": [
    {
     "data": {
      "text/plain": [
       "2164381"
      ]
     },
     "execution_count": 1,
     "metadata": {},
     "output_type": "execute_result"
    }
   ],
   "source": [
    "with open(\"input.txt\", \"r\") as f:\n",
    "    lines = f.readlines()\n",
    "\n",
    "column_1, column_2 = list(zip(*[map(lambda x: int(x), line.split(\"   \")) for line in lines]))\n",
    "\n",
    "column_1 = sorted(column_1)\n",
    "column_2 = sorted(column_2)\n",
    "\n",
    "distance = 0\n",
    "\n",
    "for idx in range(len(column_1)):\n",
    "    distance += abs(column_2[idx] - column_1[idx])\n",
    "\n",
    "distance"
   ]
  },
  {
   "cell_type": "markdown",
   "id": "97248a33-e367-4046-b85a-259615bcc041",
   "metadata": {},
   "source": [
    "Correct: `2164381`"
   ]
  },
  {
   "cell_type": "code",
   "execution_count": 2,
   "id": "074431c9-6e3d-4066-a740-4d0d657a770e",
   "metadata": {},
   "outputs": [
    {
     "data": {
      "text/plain": [
       "20719933"
      ]
     },
     "execution_count": 2,
     "metadata": {},
     "output_type": "execute_result"
    }
   ],
   "source": [
    "score = 0\n",
    "\n",
    "for number in column_1:\n",
    "    score += number * column_2.count(number)\n",
    "\n",
    "score"
   ]
  },
  {
   "cell_type": "markdown",
   "id": "06d520ba-2900-49b7-8136-40f47c979231",
   "metadata": {},
   "source": [
    "Correct: `20719933`"
   ]
  }
 ],
 "metadata": {
  "kernelspec": {
   "display_name": "Python 3 (ipykernel)",
   "language": "python",
   "name": "python3"
  },
  "language_info": {
   "codemirror_mode": {
    "name": "ipython",
    "version": 3
   },
   "file_extension": ".py",
   "mimetype": "text/x-python",
   "name": "python",
   "nbconvert_exporter": "python",
   "pygments_lexer": "ipython3",
   "version": "3.9.6"
  }
 },
 "nbformat": 4,
 "nbformat_minor": 5
}
