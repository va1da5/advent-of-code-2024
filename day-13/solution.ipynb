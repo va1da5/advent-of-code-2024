{
 "cells": [
  {
   "cell_type": "markdown",
   "id": "be284b40-6fa6-4765-973b-746e9ec3dd6c",
   "metadata": {},
   "source": [
    "# Claw Contraption"
   ]
  },
  {
   "cell_type": "code",
   "execution_count": 7,
   "id": "9b7edba4-6f87-4100-8747-a145876f5c36",
   "metadata": {},
   "outputs": [
    {
     "name": "stdout",
     "output_type": "stream",
     "text": [
      "a=30.0 b=20.0\n"
     ]
    }
   ],
   "source": [
    "# Button A: X+15, Y+55\n",
    "# Button B: X+30, Y+45\n",
    "# Prize: X=1050, Y=2550\n",
    "\n",
    "ax = 15\n",
    "ay = 55\n",
    "bx = 30\n",
    "by = 45\n",
    "\n",
    "x = 1050\n",
    "y = 2550\n",
    "\n",
    "# a = 30\n",
    "# b = 20\n",
    "\n",
    "# ax * a + bx * b = x\n",
    "# ay * a + by * b = y\n",
    "\n",
    "# ay * (ax * a + bx * b) = ay * x\n",
    "# ax * (ay * a + by * b) = ax * y\n",
    "\n",
    "# ay * ax * a + ay * bx * b = ay * x\n",
    "# ax * ay * a + ax * by * b = ax * y\n",
    "\n",
    "# (ax * ay * a + ax * by * b) - (ay * ax * a + ay * bx * b) = ax * y - ay * x\n",
    "# ax * by * b - ay * bx * b = ax * y - ay * x\n",
    "\n",
    "# b * (ax * by - ay * bx) = ax * y - ay * x\n",
    "\n",
    "b = (ax * y - ay * x) / ((ax * by) - (ay * bx))\n",
    "a = (x - (b * bx)) / ax\n",
    "\n",
    "print(f\"{a=} {b=}\")"
   ]
  },
  {
   "cell_type": "code",
   "execution_count": 3,
   "id": "14bf04b1-cfe0-496e-bcbd-3459e0093881",
   "metadata": {},
   "outputs": [
    {
     "name": "stdout",
     "output_type": "stream",
     "text": [
      "prizes=145 int(tokens)=29388\n"
     ]
    }
   ],
   "source": [
    "import re\n",
    "\n",
    "def calculate_presses(arcade):\n",
    "    ax, ay = arcade[\"a\"]\n",
    "    bx, by = arcade[\"b\"]\n",
    "    x, y = arcade[\"prize\"]\n",
    "\n",
    "    B = (ax * y - ay * x) / ((ax * by) - (ay * bx))\n",
    "    A = (x - (B * bx)) / ax\n",
    "\n",
    "    if A == round(A) and B == round(B):\n",
    "        return A,B\n",
    "    raise ValueError(\"No combination possible\")\n",
    "\n",
    "def calc_tokens(a, b):\n",
    "    return a * 3 + b\n",
    "\n",
    "def parse(arcades):\n",
    "    out = []\n",
    "    xy = re.compile(r\"[X][=+](\\d+), [Y][=+](\\d+)\")\n",
    "    for arcade in arcades.split(\"\\n\\n\"):\n",
    "        button_a, button_b, prize = arcade.split(\"\\n\")\n",
    "        \n",
    "        am = xy.search(button_a)\n",
    "        ax,ay = am.groups()\n",
    "    \n",
    "        bm = xy.search(button_b)\n",
    "        bx,by = bm.groups()\n",
    "    \n",
    "        pm = xy.search(prize)\n",
    "        px, py = pm.groups()\n",
    "\n",
    "        out.append({\n",
    "            \"a\": (int(ax), int(ay)),\n",
    "            \"b\": (int(bx), int(by)),\n",
    "            \"prize\": (int(px), int(py))\n",
    "        })\n",
    "\n",
    "    return out\n",
    "    \n",
    "with open(\"input.txt\", \"r\") as f:\n",
    "    arcades = f.read().strip()\n",
    "\n",
    "prizes = 0\n",
    "tokens = 0\n",
    "for i, arcade in enumerate(parse(arcades)):\n",
    "    try:\n",
    "        A, B = calculate_presses(arcade)\n",
    "        prizes += 1\n",
    "        if A > 99 or B > 99:\n",
    "            print(f\"{A=} {B=}\")\n",
    "        tokens += calc_tokens(A, B)\n",
    "    except ValueError:\n",
    "        continue\n",
    "\n",
    "print(f\"{prizes=} {int(tokens)=}\")"
   ]
  },
  {
   "cell_type": "markdown",
   "id": "0d2e4649-fa51-43e1-bcfb-54bb0d1c92f3",
   "metadata": {},
   "source": [
    "Correct: `29388`"
   ]
  },
  {
   "cell_type": "code",
   "execution_count": 10,
   "id": "1c34ecf5-19b0-4c7d-abcf-fb2b76f973cc",
   "metadata": {},
   "outputs": [
    {
     "name": "stdout",
     "output_type": "stream",
     "text": [
      "prizes=175 int(tokens)=99548032866004\n"
     ]
    }
   ],
   "source": [
    "with open(\"input.txt\", \"r\") as f:\n",
    "    arcades = f.read().strip()\n",
    "\n",
    "adjustment = 10000000000000\n",
    "\n",
    "prizes = 0\n",
    "tokens = 0\n",
    "for i, arcade in enumerate(parse(arcades)):\n",
    "    px, py = arcade[\"prize\"]\n",
    "    arcade[\"prize\"] = (px + adjustment, py + adjustment)\n",
    "    \n",
    "    try:\n",
    "        A, B = calculate_presses(arcade)\n",
    "        prizes += 1\n",
    "        tokens += calc_tokens(A, B)\n",
    "    except ValueError:\n",
    "        continue\n",
    "\n",
    "print(f\"{prizes=} {int(tokens)=}\")"
   ]
  },
  {
   "cell_type": "markdown",
   "id": "def8f534-52ab-4880-b989-d945bd83b026",
   "metadata": {},
   "source": [
    "Correct: `99548032866004` "
   ]
  },
  {
   "cell_type": "code",
   "execution_count": null,
   "id": "086b94de-fd21-46e0-b476-5115187286f1",
   "metadata": {},
   "outputs": [],
   "source": []
  }
 ],
 "metadata": {
  "kernelspec": {
   "display_name": "Python 3 (ipykernel)",
   "language": "python",
   "name": "python3"
  },
  "language_info": {
   "codemirror_mode": {
    "name": "ipython",
    "version": 3
   },
   "file_extension": ".py",
   "mimetype": "text/x-python",
   "name": "python",
   "nbconvert_exporter": "python",
   "pygments_lexer": "ipython3",
   "version": "3.9.6"
  }
 },
 "nbformat": 4,
 "nbformat_minor": 5
}
