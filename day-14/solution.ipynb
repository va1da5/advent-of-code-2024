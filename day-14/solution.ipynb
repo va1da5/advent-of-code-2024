{
 "cells": [
  {
   "cell_type": "markdown",
   "id": "a9faa439-b93e-4213-803d-b07a100f035c",
   "metadata": {},
   "source": [
    "# Restroom Redoubt"
   ]
  },
  {
   "cell_type": "code",
   "execution_count": 1,
   "id": "900c7258-f53a-472f-9a04-3513ff70312a",
   "metadata": {},
   "outputs": [
    {
     "data": {
      "text/plain": [
       "228690000"
      ]
     },
     "execution_count": 1,
     "metadata": {},
     "output_type": "execute_result"
    }
   ],
   "source": [
    "import re\n",
    "import math\n",
    "\n",
    "def get_matrix(area: str):\n",
    "    return list(map(lambda line: list(line), area.split(\"\\n\")))\n",
    "\n",
    "def make_matrix(height, width):\n",
    "    horizontal = [\".\"] * width\n",
    "    return [[*horizontal] for i in range(height)]\n",
    "\n",
    "def render_matrix(matrix):\n",
    "    return \"\\n\".join([\"\".join(line) for line in matrix])\n",
    "\n",
    "def get_point(position, vector, step, height, width):\n",
    "    px, py = position\n",
    "    vx, vy = vector\n",
    "\n",
    "    x = vx * step + px\n",
    "    y = vy * step + py\n",
    "\n",
    "    dx = x % width\n",
    "    dy = y % height\n",
    "\n",
    "    return (dx, dy)\n",
    "\n",
    "def parse(data):\n",
    "    out = []\n",
    "    pattern = re.compile(\"-?\\d+\")\n",
    "    items = data.strip().split(\"\\n\")\n",
    "    for item in items:\n",
    "        px, py, vx, vy = map(lambda x: int(x), pattern.findall(item))\n",
    "        out.append(((px, py), (vx, vy)))\n",
    "    return out\n",
    "\n",
    "def get_middle(height, width):\n",
    "    x = math.floor(width / 2)\n",
    "    y = math.floor(height / 2)\n",
    "\n",
    "    return x, y\n",
    "\n",
    "def move_robots(robots, height, width, steps):\n",
    "    return [get_point(*robot, steps, height, width) for robot in robots]\n",
    "\n",
    "\n",
    "def get_safety_factor(robots, height, width):\n",
    "    mx, my = get_middle(height, width)\n",
    "    top_left = len(list(filter(lambda p: p[0] < mx and p[1] < my, robots)))\n",
    "    top_right = len(list(filter(lambda p: p[0] > mx and p[1] < my, robots)))\n",
    "    bottom_left = len(list(filter(lambda p: p[0] < mx and p[1] > my, robots)))\n",
    "    bottom_right = len(list(filter(lambda p: p[0] > mx and p[1] > my, robots)))\n",
    "\n",
    "    return top_left * top_right * bottom_left * bottom_right\n",
    "\n",
    "\n",
    "WIDTH = 101\n",
    "HEIGHT = 103\n",
    "STEPS = 100\n",
    "\n",
    "with open(\"input.txt\", \"r\") as f:\n",
    "    data = f.read()\n",
    "\n",
    "robots = parse(data)\n",
    "\n",
    "matrix = make_matrix(HEIGHT, WIDTH)\n",
    "\n",
    "moved_robots = move_robots(robots, HEIGHT, WIDTH, 100)\n",
    "\n",
    "# for robot in moved_robots:\n",
    "#     x, y = robot\n",
    "#     count = moved_robots.count(robot)\n",
    "#     matrix[y][x] = str(count)\n",
    "# print(render_matrix(matrix))\n",
    "\n",
    "\n",
    "get_safety_factor(moved_robots, HEIGHT, WIDTH)"
   ]
  },
  {
   "cell_type": "markdown",
   "id": "e566cb75-0e19-4957-8def-d265f8d68dcf",
   "metadata": {},
   "source": [
    "Correct: `228690000`"
   ]
  },
  {
   "cell_type": "code",
   "execution_count": 19,
   "id": "112315f7-3e55-4ae4-b24d-f971757bddec",
   "metadata": {},
   "outputs": [],
   "source": [
    "from PIL import Image\n",
    "\n",
    "def draw_image(robots, name):\n",
    "    img = Image.new( 'RGB', (WIDTH, HEIGHT), \"white\") # Create a new black image\n",
    "    pixels = img.load() # Create the pixel map\n",
    "    for robot in robots:\n",
    "        x,y = robot\n",
    "        pixels[x, y] = (0, 0, 0)\n",
    "\n",
    "    img.save(f\"imgs/{name}.png\")\n",
    "\n",
    "\n",
    "robots = parse(data)\n",
    "\n",
    "for steps in range(7093, 7094):\n",
    "    moved_robots = move_robots(robots, HEIGHT, WIDTH, steps)\n",
    "    draw_image(moved_robots, steps)\n"
   ]
  },
  {
   "cell_type": "markdown",
   "id": "3f5b6006-8103-45a0-849a-302ac9e17a0f",
   "metadata": {},
   "source": [
    "Correct: `7093`\n",
    "\n",
    "![7093](./7093.png)"
   ]
  }
 ],
 "metadata": {
  "kernelspec": {
   "display_name": "Python 3 (ipykernel)",
   "language": "python",
   "name": "python3"
  },
  "language_info": {
   "codemirror_mode": {
    "name": "ipython",
    "version": 3
   },
   "file_extension": ".py",
   "mimetype": "text/x-python",
   "name": "python",
   "nbconvert_exporter": "python",
   "pygments_lexer": "ipython3",
   "version": "3.9.6"
  }
 },
 "nbformat": 4,
 "nbformat_minor": 5
}
