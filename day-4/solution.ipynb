{
 "cells": [
  {
   "cell_type": "code",
   "execution_count": 4,
   "id": "dd543749-9dc6-4530-98dd-979ed36aface",
   "metadata": {},
   "outputs": [
    {
     "data": {
      "text/plain": [
       "2378"
      ]
     },
     "execution_count": 4,
     "metadata": {},
     "output_type": "execute_result"
    }
   ],
   "source": [
    "with open(\"input.txt\", \"r\") as f:\n",
    "    content = f.read()\n",
    "\n",
    "lines = []\n",
    "horizontal = content.split(\"\\n\")\n",
    "\n",
    "lines.extend(horizontal)\n",
    "\n",
    "def get_vertical_lines(horizontal):\n",
    "    verticals = []\n",
    "    for x in range(len(horizontal[0])):\n",
    "        vertical_line = \"\"\n",
    "        for line in horizontal:\n",
    "            vertical_line += line[x]\n",
    "        verticals.append(vertical_line)\n",
    "    return verticals\n",
    "\n",
    "def get_diagonals(horizontal):\n",
    "    right_diagonals = []\n",
    "    left_diagonals = []\n",
    "\n",
    "    # right\n",
    "    for y in range(len(horizontal)):\n",
    "        right_diagonals.append(\">\"*y + horizontal[y] + \"<\"*(len(horizontal[y])-y-1))\n",
    "\n",
    "    # left\n",
    "    for y in range(len(horizontal)):\n",
    "        left_diagonals.append(\">\"*(len(horizontal[y])-y-1) + horizontal[y] + \"<\"*y)\n",
    "\n",
    "    return [*get_vertical_lines(right_diagonals), *get_vertical_lines(left_diagonals)]\n",
    "\n",
    "lines.extend(get_vertical_lines(horizontal))\n",
    "lines.extend(get_diagonals(horizontal))\n",
    "\n",
    "count = 0\n",
    "\n",
    "for line in lines:\n",
    "    count += line.count(\"XMAS\")\n",
    "    count += line.count(\"SAMX\")\n",
    "\n",
    "count"
   ]
  },
  {
   "cell_type": "markdown",
   "id": "5bf5238a-e50b-468a-8de1-668cb9c2cfa1",
   "metadata": {},
   "source": [
    "Correct: `2387`"
   ]
  },
  {
   "cell_type": "code",
   "execution_count": 6,
   "id": "bbb7668f-6aaa-406f-b7c1-00ec0ad73e45",
   "metadata": {},
   "outputs": [
    {
     "data": {
      "text/plain": [
       "1796"
      ]
     },
     "execution_count": 6,
     "metadata": {},
     "output_type": "execute_result"
    }
   ],
   "source": [
    "def find_mas_count(horizontal):\n",
    "    count = 0\n",
    "    ms = [\"M\", \"S\"]\n",
    "    for y in range(1, len(horizontal)-1):\n",
    "        for x in range(1, len(horizontal)-1):\n",
    "            if horizontal[y][x] == \"A\":\n",
    "                top_left = horizontal[y-1][x-1]\n",
    "                bottom_left = horizontal[y+1][x-1]\n",
    "                top_right = horizontal[y-1][x+1]\n",
    "                bottom_right = horizontal[y+1][x+1]\n",
    "\n",
    "                if top_left in ms and bottom_right in ms and top_left != bottom_right:\n",
    "                    if top_right in ms and bottom_left in ms and top_right != bottom_left:\n",
    "                        count += 1\n",
    "    return count\n",
    "\n",
    "find_mas_count(horizontal)"
   ]
  },
  {
   "cell_type": "markdown",
   "id": "dc584d55-2380-44c8-899c-440db8944369",
   "metadata": {},
   "source": [
    "Correct: `1796`"
   ]
  }
 ],
 "metadata": {
  "kernelspec": {
   "display_name": "Python 3 (ipykernel)",
   "language": "python",
   "name": "python3"
  },
  "language_info": {
   "codemirror_mode": {
    "name": "ipython",
    "version": 3
   },
   "file_extension": ".py",
   "mimetype": "text/x-python",
   "name": "python",
   "nbconvert_exporter": "python",
   "pygments_lexer": "ipython3",
   "version": "3.9.6"
  }
 },
 "nbformat": 4,
 "nbformat_minor": 5
}
