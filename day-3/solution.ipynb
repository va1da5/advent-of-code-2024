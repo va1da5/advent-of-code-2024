{
 "cells": [
  {
   "cell_type": "code",
   "execution_count": 1,
   "id": "880115d6-70a8-486c-b35a-5206ea67688d",
   "metadata": {},
   "outputs": [
    {
     "data": {
      "text/plain": [
       "188192787"
      ]
     },
     "execution_count": 1,
     "metadata": {},
     "output_type": "execute_result"
    }
   ],
   "source": [
    "import re\n",
    "\n",
    "with open(\"input.txt\", \"r\") as f:\n",
    "    lines = f.readlines() # <- this wasted too much of my time in the second part :/\n",
    "\n",
    "mul_pattern = re.compile(r\"mul\\((\\d{1,3}),(\\d{1,3})\\)\")\n",
    "\n",
    "def sum_mul(string):\n",
    "    return sum(map(lambda args: int(args[0])*int(args[1]), mul_pattern.findall(string)))\n",
    "\n",
    "out = 0\n",
    "for line in lines:\n",
    "    out += sum_mul(line)\n",
    "\n",
    "out"
   ]
  },
  {
   "cell_type": "markdown",
   "id": "76fde96e-74fa-4ecb-8549-bef32c8dc666",
   "metadata": {},
   "source": [
    "Correct: `188192787`"
   ]
  },
  {
   "cell_type": "code",
   "execution_count": 2,
   "id": "8aa44834-a75c-4087-bb82-4c9c54cb56de",
   "metadata": {},
   "outputs": [
    {
     "data": {
      "text/plain": [
       "113965544"
      ]
     },
     "execution_count": 2,
     "metadata": {},
     "output_type": "execute_result"
    }
   ],
   "source": [
    "branch_pattern = re.compile(r\"(?:^|do\\(\\)).*?(?:$|don\\'t\\(\\))\")\n",
    "\n",
    "with open(\"input.txt\", \"r\") as f:\n",
    "    content = f.read()\n",
    "\n",
    "out = 0\n",
    "for branch in branch_pattern.findall(content.replace(\"\\n\", \"\")):\n",
    "    out += sum_mul(branch)\n",
    "out"
   ]
  },
  {
   "cell_type": "code",
   "execution_count": 3,
   "id": "5156145c-f642-4721-859e-f2fc9937d1bb",
   "metadata": {},
   "outputs": [
    {
     "data": {
      "text/plain": [
       "113965544"
      ]
     },
     "execution_count": 3,
     "metadata": {},
     "output_type": "execute_result"
    }
   ],
   "source": [
    "with open(\"input.txt\", \"r\") as f:\n",
    "    content = f.read()\n",
    "\n",
    "fractions = (\"do()\" + content.replace(\"\\n\", \"\").replace(\"do()\", \"\\ndo()\").replace(\"don't()\", \"\\ndon't()\")).split(\"\\n\")\n",
    "\n",
    "out = 0\n",
    "for fraction in fractions:\n",
    "    if fraction.startswith(\"do()\"):\n",
    "        out += sum_mul(fraction)\n",
    "out"
   ]
  },
  {
   "cell_type": "markdown",
   "id": "5a7a916c-2f7b-4e00-bd0f-46942e3d1e52",
   "metadata": {},
   "source": [
    "Correct: `113965544`"
   ]
  }
 ],
 "metadata": {
  "kernelspec": {
   "display_name": "Python 3 (ipykernel)",
   "language": "python",
   "name": "python3"
  },
  "language_info": {
   "codemirror_mode": {
    "name": "ipython",
    "version": 3
   },
   "file_extension": ".py",
   "mimetype": "text/x-python",
   "name": "python",
   "nbconvert_exporter": "python",
   "pygments_lexer": "ipython3",
   "version": "3.9.6"
  }
 },
 "nbformat": 4,
 "nbformat_minor": 5
}
